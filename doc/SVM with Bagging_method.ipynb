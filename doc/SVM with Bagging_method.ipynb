{
 "cells": [
  {
   "cell_type": "code",
   "execution_count": 1,
   "metadata": {},
   "outputs": [],
   "source": [
    "# Note: Ctrl + / is the short-cut of 'comment'\n",
    "\n",
    "# # if your kernel do not contain the packages below, please run this cell \n",
    "# %conda install pandas numpy scipy scikit-learn\n",
    "\n",
    "# # an alternative\n",
    "# #%pip install pandas numpy scipy scikit-learn\n"
   ]
  },
  {
   "cell_type": "code",
   "execution_count": 2,
   "metadata": {},
   "outputs": [],
   "source": [
    "import os\n",
    "import time\n",
    "import numpy as np\n",
    "import pandas as pd\n",
    "from scipy.io import loadmat\n",
    "from scipy.spatial.distance import cdist\n",
    "from sklearn.ensemble import BaggingClassifier, RandomForestClassifier\n",
    "from sklearn.model_selection import GridSearchCV\n",
    "from sklearn.linear_model import LogisticRegression\n",
    "from sklearn.svm import SVC\n",
    "from sklearn.metrics import accuracy_score\n",
    "from sklearn.model_selection import cross_validate\n",
    "\n",
    "# Make sure changing the path before run\n",
    "file_path = 'E:/GitHub/Spring2020-Project3-group12/data'\n",
    "os.chdir(file_path)"
   ]
  },
  {
   "cell_type": "code",
   "execution_count": 3,
   "metadata": {},
   "outputs": [
    {
     "name": "stdout",
     "output_type": "stream",
     "text": [
      "Training features extraction time: 1.2426 seconds\n"
     ]
    }
   ],
   "source": [
    "def dist(file):\n",
    "    name = list(file.keys())[-1]\n",
    "    dat = file[name]\n",
    "    dist_mat = cdist(dat, dat, 'euclidean')\n",
    "    return dist_mat[np.triu_indices(78, 1)].flatten()\n",
    "\n",
    "# Read Train datasets\n",
    "s = time.time()\n",
    "train_label = pd.read_csv('../data/train_set/label.csv')\n",
    "file_path = [os.path.join('../data/train_set/points/', str(i).zfill(4) + '.mat') for i in range(1, 2501)]\n",
    "\n",
    "X_train = np.array(list(map(dist, (loadmat(f) for f in file_path))))\n",
    "y_train = train_label['emotion_idx']\n",
    "print(f'Training features extraction time: {time.time()-s:.4f} seconds')\n",
    "groups = y_train\n",
    "\n",
    "\n",
    "\n",
    "# # Read Test datasets\n",
    "# s = time.time()\n",
    "\n",
    "# file_path = [os.path.join('../data/test_set/points/', str(i).zfill(4) + '.mat') for i in range(1, 2501)]\n",
    "# X_test = np.array(list(map(dist, (loadmat(f) for f in file_path))))\n",
    "# print(f'Test features extraction time: {time.time()-s:.4f} seconds')\n"
   ]
  },
  {
   "cell_type": "code",
   "execution_count": 4,
   "metadata": {},
   "outputs": [],
   "source": [
    "# SVM + Bagging Estimator\n",
    "svm = SVC(kernel='linear', C=.001, decision_function_shape='ovo')\n",
    "svm_bag = BaggingClassifier(svm, n_estimators=120, n_jobs=4)\n"
   ]
  },
  {
   "cell_type": "code",
   "execution_count": null,
   "metadata": {},
   "outputs": [],
   "source": [
    "# # Cross_Validation\n",
    "# svm_bag_cv = cross_validate(svm_bag,\n",
    "#                             X_train, y_train,\n",
    "#                             groups=groups,\n",
    "#                             cv=5,\n",
    "#                             n_jobs=-1,\n",
    "#                             return_train_score=True)\n",
    "# name = 'Bagging + SVM'\n",
    "# times = svm_bag_cv['fit_time']\n",
    "# train_scores = svm_bag_cv['train_score']\n",
    "# test_scores = svm_bag_cv['test_score']\n",
    "# print(f'{name}, Mean Train score: {train_scores.mean():.4f}')\n",
    "# print(f'{name}, Mean Test score: {test_scores.mean():.4f}')\n",
    "# print(f'{name}, Mean Time spent: {times.mean():.4f} seconds')"
   ]
  },
  {
   "cell_type": "code",
   "execution_count": null,
   "metadata": {},
   "outputs": [],
   "source": [
    "s = time.time()\n",
    "svm_bag.fit(X_train, y_train)\n",
    "print(f'Training model time is {time.time()-s:.4f} seconds')"
   ]
  },
  {
   "cell_type": "code",
   "execution_count": null,
   "metadata": {},
   "outputs": [],
   "source": [
    "# #Test scores\n",
    "# s = time.time()\n",
    "# predict = svm_bag(X_test)"
   ]
  }
 ],
 "metadata": {
  "kernelspec": {
   "display_name": "ADS_Project",
   "language": "python",
   "name": "ads_project"
  },
  "language_info": {
   "codemirror_mode": {
    "name": "ipython",
    "version": 3
   },
   "file_extension": ".py",
   "mimetype": "text/x-python",
   "name": "python",
   "nbconvert_exporter": "python",
   "pygments_lexer": "ipython3",
   "version": "3.7.6"
  }
 },
 "nbformat": 4,
 "nbformat_minor": 4
}
