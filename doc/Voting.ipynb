{
 "cells": [
  {
   "cell_type": "code",
   "execution_count": null,
   "metadata": {},
   "outputs": [],
   "source": [
    "# Note: Ctrl + / is the short-cut of 'comment'\n",
    "\n",
    "# # if your kernel do not contain the packages below, please run this cell \n",
    "# %conda install pandas numpy scipy scikit-learn\n",
    "\n",
    "# # an alternative\n",
    "# #%pip install pandas numpy scipy scikit-learn\n"
   ]
  },
  {
   "cell_type": "code",
   "execution_count": null,
   "metadata": {},
   "outputs": [],
   "source": [
    "import os\n",
    "import time\n",
    "import numpy as np\n",
    "import pandas as pd\n",
    "from scipy.io import loadmat\n",
    "from scipy.spatial.distance import cdist\n",
    "from sklearn.ensemble import VotingClassifier\n",
    "from sklearn.linear_model import LogisticRegression\n",
    "from sklearn.svm import SVC\n",
    "from sklearn.metrics import accuracy_score\n",
    "from sklearn.decomposition import PCA\n",
    "from sklearn.linear_model import Ridge\n",
    "\n",
    "# Make sure changing the path before run\n",
    "file_path = 'E:/GitHub/Spring2020-Project3-group12/data'\n",
    "os.chdir(file_path)"
   ]
  },
  {
   "cell_type": "code",
   "execution_count": null,
   "metadata": {},
   "outputs": [],
   "source": [
    "def dist(file):\n",
    "    name = list(file.keys())[-1]\n",
    "    dat = file[name]\n",
    "    dist_mat = cdist(dat, dat, 'euclidean')\n",
    "    return dist_mat[np.triu_indices(78, 1)].flatten()\n",
    "\n",
    "# Read Train datasets\n",
    "s = time.time()\n",
    "train_label = pd.read_csv('../data/train_set/label.csv')\n",
    "file_path = [os.path.join('../data/train_set/points/', str(i).zfill(4) + '.mat') for i in range(1, 2501)]\n",
    "\n",
    "X_train = np.array(list(map(dist, (loadmat(f) for f in file_path))))\n",
    "y_train = train_label['emotion_idx']\n",
    "print(f'Training features extraction time: {time.time()-s:.4f} seconds')\n",
    "groups = y_train\n",
    "\n",
    "\n",
    "\n",
    "# # Read Test datasets\n",
    "# s = time.time()\n",
    "\n",
    "# file_path = [os.path.join('../data/test_set/points/', str(i).zfill(4) + '.mat') for i in range(1, 2501)]\n",
    "# X_test = np.array(list(map(dist, (loadmat(f) for f in file_path))))\n",
    "# print(f'Test features extraction time: {time.time()-s:.4f} seconds')\n"
   ]
  },
  {
   "cell_type": "code",
   "execution_count": null,
   "metadata": {},
   "outputs": [],
   "source": [
    "# SVM + Bagging Estimator\n",
    "svm = SVC(kernel='linear', C=.0001, decision_function_shape='ovo')\n",
    "ridge = RidgeClassifier(alpha=85)\n",
    "logistic = LogisticRegression()\n",
    "pca = PCA(n_components=128)\n",
    "\n",
    "estimators = [('svm', svm), ('ridge', ridge), ('logi', logistic)]\n",
    "voting = VotingClassifier(estimators=estimators, voting='hard', n_jobs=-1)"
   ]
  },
  {
   "cell_type": "code",
   "execution_count": null,
   "metadata": {},
   "outputs": [],
   "source": [
    "# # Cross_Validation\n",
    "# train_scores = []\n",
    "# test_scores = []\n",
    "# times = []\n",
    "# for i in range(10):\n",
    "#     s = time.time()\n",
    "#     X_train, X_validation, y_train, y_validation = train_test_split(X, y, test_size=.2, shuffle=True, stratify=y)\n",
    "#     X_train_pca = pca.fit_transform(X_train)\n",
    "#     X_validation_pca = pca.transform(X_validation)\n",
    "\n",
    "#     voting.fit(X_train_pca, y_train)\n",
    "\n",
    "#     test_pred = voting.predict(X_validation_pca)\n",
    "#     times.append(time.time() - s)\n",
    "\n",
    "#     train_pred = voting.predict(X_train_pca)\n",
    "\n",
    "#     train_score = accuracy_score(y_train, train_pred)\n",
    "#     test_score = accuracy_score(y_validation, test_pred)\n",
    "\n",
    "#     train_scores.append(train_score)\n",
    "#     test_scores.append(test_score)\n",
    "    \n",
    "\n",
    "# print(f'The mean Train Score of Voting is {np.array(train_scores).mean():.4f}')\n",
    "# print(f'The mean Test Score of Voting is {np.array(test_scores).mean():.4f}')\n",
    "# print(f'The mean Time per cvs of Voting is {np.array(times).mean():.4f} seconds')"
   ]
  },
  {
   "cell_type": "code",
   "execution_count": null,
   "metadata": {},
   "outputs": [],
   "source": [
    "s = time.time()\n",
    "X_train_pca = pca.fit_transform(X_train)\n",
    "voting.fit(X_train_pca, y_train)\n",
    "print(f'Training model time is {time.time()-s:.4f} seconds')"
   ]
  },
  {
   "cell_type": "code",
   "execution_count": null,
   "metadata": {},
   "outputs": [],
   "source": [
    "# #Test scores\n",
    "# s = time.time()\n",
    "# X_test_pca = pca.transform(X_test)\n",
    "# predict = voting(X_test_pca)"
   ]
  }
 ],
 "metadata": {
  "kernelspec": {
   "display_name": "ADS_Project",
   "language": "python",
   "name": "ads_project"
  },
  "language_info": {
   "codemirror_mode": {
    "name": "ipython",
    "version": 3
   },
   "file_extension": ".py",
   "mimetype": "text/x-python",
   "name": "python",
   "nbconvert_exporter": "python",
   "pygments_lexer": "ipython3",
   "version": "3.7.6"
  }
 },
 "nbformat": 4,
 "nbformat_minor": 4
}
