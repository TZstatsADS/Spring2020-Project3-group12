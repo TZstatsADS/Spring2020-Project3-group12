{
 "cells": [
  {
   "cell_type": "code",
   "execution_count": 1,
   "metadata": {},
   "outputs": [],
   "source": [
    "import matplotlib.pyplot as plt\n",
    "from scipy.io import loadmat\n",
    "import pandas as pd\n",
    "from scipy.spatial.distance import cdist\n",
    "from sklearn.model_selection import train_test_split\n",
    "from sklearn.ensemble import BaggingClassifier, RandomForestClassifier\n",
    "from sklearn.model_selection import GridSearchCV\n",
    "from sklearn.linear_model import LogisticRegression\n",
    "from sklearn.svm import SVC\n",
    "from sklearn.model_selection import cross_validate"
   ]
  },
  {
   "cell_type": "code",
   "execution_count": null,
   "metadata": {},
   "outputs": [],
   "source": [
    "# create train set\n",
    "def dist(file):\n",
    "    fname = list(file.keys())[-1]\n",
    "    dat = file[fname]\n",
    "    dist_mat = cdist(dat, dat, 'euclidean')\n",
    "    return dist_mat[np.triu_indices(78, 1)].flatten()\n",
    "\n",
    "\n",
    "label = pd.read_csv('../data/train_set/label.csv')\n",
    "file_path = [os.path.join('../data/train_set/points/', str(i).zfill(4) + '.mat') for i in range(1, 2501)]\n",
    "\n",
    "names = [f'featrue{n}' for n in range(3003)]\n",
    "X = pd.DataFrame(list(map(dist, (loadmat(f) for f in file_path))), columns=names)\n",
    "y = np.array(label['emotion_idx'])\n",
    "groups = y\n",
    "\n",
    "train_set = X\n",
    "train_set['label'] = y"
   ]
  },
  {
   "cell_type": "code",
   "execution_count": null,
   "metadata": {},
   "outputs": [],
   "source": [
    "'''\n",
    "# Grid Search RF\n",
    "rf_params = {'n_estimators': [5, 10, 15, 30, 50],\n",
    "             'max_depth': [5, 10, 15, 20]}\n",
    "\n",
    "rf_grid = GridSearchCV(RandomForestClassifier(n_jobs=5, verbose=True),\n",
    "                       rf_params, cv=5, return_train_score=True,\n",
    "                       scoring='accuracy')\n",
    "rf_grid.fit(X, y, groups=groups)\n",
    "print(\"RandomForest Best Params\", rf_grid.best_params_)\n",
    "print(\"Score\", rf_grid.best_score_)\n",
    "\n",
    "# Grid Search SVM\n",
    "svm_params = [{'kernel': ['linear', 'rbf'],\n",
    "               'C': [1, 10, 50, 100],\n",
    "               'gamma': [1e-4, 1e-3, 'auto'],\n",
    "               'decision_function_shape': ['ovo', 'ovr']\n",
    "               }]\n",
    "svm_grid = GridSearchCV(SVC(), svm_params, cv=5, verbose=5, n_jobs=5, return_train_score=True, scoring='accuracy')\n",
    "svm_grid.fit(X, y, groups=groups)\n",
    "print(\"SVM best param\", svm_grid.best_params_)\n",
    "print(\"SVM scores\", svm_grid.best_score_)\n",
    "\n",
    "\n",
    "# Grid Search Logistic\n",
    "lr_params = {'C': [.1, 1, 10]}\n",
    "lr_grid = GridSearchCV(LogisticRegression(penalty='l2', max_iter=100),\n",
    "                       lr_params, cv=5, n_jobs=5, return_train_score=True, verbose=10)\n",
    "lr_grid.fit(X, y, groups=groups)\n",
    "print(lr_grid.best_params_)\n",
    "'''"
   ]
  },
  {
   "cell_type": "code",
   "execution_count": null,
   "metadata": {},
   "outputs": [],
   "source": [
    "X_train, X_test, y_train, y_test = train_test_split(X, y, test_size=.2, shuffle=True, stratify=y)\n",
    "\n",
    "rf = RandomForestClassifier(n_estimators=800, max_depth=8, n_jobs=4)\n",
    "svm = SVC(kernel='linear', C=.001, decision_function_shape='ovo')\n",
    "svm_bag = BaggingClassifier(svm, n_estimators=120, n_jobs=4)\n",
    "lr = LogisticRegression(n_jobs=4)\n",
    "estimators = {'RandomForest': rf, 'SVM': svm, 'SVM with Bagging': svm_bag, 'Logistic Regression': lr}\n",
    "# Single Score\n",
    "for name, estimator in estimators.items():\n",
    "    start = time.time()\n",
    "    estimator.fit(X_train, y_train)\n",
    "    print(f'{name}, Train score: {estimator.score(X_train, y_train):.4f}')\n",
    "    print(f'{name}, Test score: {estimator.score(X_test, y_test):.4f}')\n",
    "    print(f'{name}, Time spent: {time.time()-start:.4f} seconds')\n"
   ]
  },
  {
   "cell_type": "code",
   "execution_count": null,
   "metadata": {},
   "outputs": [],
   "source": [
    "# Cross_validation Score\n",
    "for name, estimator in estimators.items():\n",
    "    est_cv = cross_validate(estimator, X, y, groups=groups, cv=5, return_train_score=True)\n",
    "    times = est_cv['fit_time']\n",
    "    train_scores = est_cv['train_score']\n",
    "    test_scores = est_cv['test_score']\n",
    "    print(f'{name}, Mean Train score: {train_scores.mean():.4f}')\n",
    "    print(f'{name}, Mean Test score: {test_scores.mean():.4f}')\n",
    "    print(f'{name}, Mean Time spent: {times.mean():.4f} seconds')\n"
   ]
  }
 ],
 "metadata": {
  "kernelspec": {
   "display_name": "ADS_Project",
   "language": "python",
   "name": "ads_project"
  },
  "language_info": {
   "codemirror_mode": {
    "name": "ipython",
    "version": 3
   },
   "file_extension": ".py",
   "mimetype": "text/x-python",
   "name": "python",
   "nbconvert_exporter": "python",
   "pygments_lexer": "ipython3",
   "version": "3.7.6"
  }
 },
 "nbformat": 4,
 "nbformat_minor": 4
}
